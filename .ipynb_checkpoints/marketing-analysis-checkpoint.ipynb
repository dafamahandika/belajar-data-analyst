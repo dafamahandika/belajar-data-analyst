{
 "cells": [
  {
   "cell_type": "markdown",
   "id": "f05f8238",
   "metadata": {},
   "source": [
    "## Data Quality Check"
   ]
  },
  {
   "cell_type": "code",
   "execution_count": 30,
   "id": "2d75c21e-afd8-43a0-bedf-659387d6bfff",
   "metadata": {},
   "outputs": [],
   "source": [
    "import pandas as pd\n",
    "import numpy as np\n",
    "import matplotlib.pyplot as plt\n",
    "import seaborn as sns\n",
    "import warnings as wn\n",
    "\n",
    "pd.set_option('display.max_columns', None)\n",
    "sns.set_context('notebook')\n",
    "sns.set_style('darkgrid')\n",
    "sns.set_palette('Blues_r')\n",
    "\n",
    "wn.filterwarnings('ignore')\n"
   ]
  },
  {
   "cell_type": "code",
   "execution_count": 31,
   "id": "207186c0",
   "metadata": {},
   "outputs": [
    {
     "data": {
      "text/html": [
       "<div>\n",
       "<style scoped>\n",
       "    .dataframe tbody tr th:only-of-type {\n",
       "        vertical-align: middle;\n",
       "    }\n",
       "\n",
       "    .dataframe tbody tr th {\n",
       "        vertical-align: top;\n",
       "    }\n",
       "\n",
       "    .dataframe thead th {\n",
       "        text-align: right;\n",
       "    }\n",
       "</style>\n",
       "<table border=\"1\" class=\"dataframe\">\n",
       "  <thead>\n",
       "    <tr style=\"text-align: right;\">\n",
       "      <th></th>\n",
       "      <th>ID</th>\n",
       "      <th>Year_Birth</th>\n",
       "      <th>Education</th>\n",
       "      <th>Marital_Status</th>\n",
       "      <th>Income</th>\n",
       "      <th>Kidhome</th>\n",
       "      <th>Teenhome</th>\n",
       "      <th>Dt_Customer</th>\n",
       "      <th>Recency</th>\n",
       "      <th>MntWines</th>\n",
       "      <th>MntFruits</th>\n",
       "      <th>MntMeatProducts</th>\n",
       "      <th>MntFishProducts</th>\n",
       "      <th>MntSweetProducts</th>\n",
       "      <th>MntGoldProds</th>\n",
       "      <th>NumDealsPurchases</th>\n",
       "      <th>NumWebPurchases</th>\n",
       "      <th>NumCatalogPurchases</th>\n",
       "      <th>NumStorePurchases</th>\n",
       "      <th>NumWebVisitsMonth</th>\n",
       "      <th>AcceptedCmp3</th>\n",
       "      <th>AcceptedCmp4</th>\n",
       "      <th>AcceptedCmp5</th>\n",
       "      <th>AcceptedCmp1</th>\n",
       "      <th>AcceptedCmp2</th>\n",
       "      <th>Response</th>\n",
       "      <th>Complain</th>\n",
       "      <th>Country</th>\n",
       "    </tr>\n",
       "  </thead>\n",
       "  <tbody>\n",
       "    <tr>\n",
       "      <th>0</th>\n",
       "      <td>1826</td>\n",
       "      <td>1970</td>\n",
       "      <td>Graduation</td>\n",
       "      <td>Divorced</td>\n",
       "      <td>$84,835.00</td>\n",
       "      <td>0</td>\n",
       "      <td>0</td>\n",
       "      <td>6/16/14</td>\n",
       "      <td>0</td>\n",
       "      <td>189</td>\n",
       "      <td>104</td>\n",
       "      <td>379</td>\n",
       "      <td>111</td>\n",
       "      <td>189</td>\n",
       "      <td>218</td>\n",
       "      <td>1</td>\n",
       "      <td>4</td>\n",
       "      <td>4</td>\n",
       "      <td>6</td>\n",
       "      <td>1</td>\n",
       "      <td>0</td>\n",
       "      <td>0</td>\n",
       "      <td>0</td>\n",
       "      <td>0</td>\n",
       "      <td>0</td>\n",
       "      <td>1</td>\n",
       "      <td>0</td>\n",
       "      <td>SP</td>\n",
       "    </tr>\n",
       "    <tr>\n",
       "      <th>1</th>\n",
       "      <td>1</td>\n",
       "      <td>1961</td>\n",
       "      <td>Graduation</td>\n",
       "      <td>Single</td>\n",
       "      <td>$57,091.00</td>\n",
       "      <td>0</td>\n",
       "      <td>0</td>\n",
       "      <td>6/15/14</td>\n",
       "      <td>0</td>\n",
       "      <td>464</td>\n",
       "      <td>5</td>\n",
       "      <td>64</td>\n",
       "      <td>7</td>\n",
       "      <td>0</td>\n",
       "      <td>37</td>\n",
       "      <td>1</td>\n",
       "      <td>7</td>\n",
       "      <td>3</td>\n",
       "      <td>7</td>\n",
       "      <td>5</td>\n",
       "      <td>0</td>\n",
       "      <td>0</td>\n",
       "      <td>0</td>\n",
       "      <td>0</td>\n",
       "      <td>1</td>\n",
       "      <td>1</td>\n",
       "      <td>0</td>\n",
       "      <td>CA</td>\n",
       "    </tr>\n",
       "    <tr>\n",
       "      <th>2</th>\n",
       "      <td>10476</td>\n",
       "      <td>1958</td>\n",
       "      <td>Graduation</td>\n",
       "      <td>Married</td>\n",
       "      <td>$67,267.00</td>\n",
       "      <td>0</td>\n",
       "      <td>1</td>\n",
       "      <td>5/13/14</td>\n",
       "      <td>0</td>\n",
       "      <td>134</td>\n",
       "      <td>11</td>\n",
       "      <td>59</td>\n",
       "      <td>15</td>\n",
       "      <td>2</td>\n",
       "      <td>30</td>\n",
       "      <td>1</td>\n",
       "      <td>3</td>\n",
       "      <td>2</td>\n",
       "      <td>5</td>\n",
       "      <td>2</td>\n",
       "      <td>0</td>\n",
       "      <td>0</td>\n",
       "      <td>0</td>\n",
       "      <td>0</td>\n",
       "      <td>0</td>\n",
       "      <td>0</td>\n",
       "      <td>0</td>\n",
       "      <td>US</td>\n",
       "    </tr>\n",
       "    <tr>\n",
       "      <th>3</th>\n",
       "      <td>1386</td>\n",
       "      <td>1967</td>\n",
       "      <td>Graduation</td>\n",
       "      <td>Together</td>\n",
       "      <td>$32,474.00</td>\n",
       "      <td>1</td>\n",
       "      <td>1</td>\n",
       "      <td>5/11/14</td>\n",
       "      <td>0</td>\n",
       "      <td>10</td>\n",
       "      <td>0</td>\n",
       "      <td>1</td>\n",
       "      <td>0</td>\n",
       "      <td>0</td>\n",
       "      <td>0</td>\n",
       "      <td>1</td>\n",
       "      <td>1</td>\n",
       "      <td>0</td>\n",
       "      <td>2</td>\n",
       "      <td>7</td>\n",
       "      <td>0</td>\n",
       "      <td>0</td>\n",
       "      <td>0</td>\n",
       "      <td>0</td>\n",
       "      <td>0</td>\n",
       "      <td>0</td>\n",
       "      <td>0</td>\n",
       "      <td>AUS</td>\n",
       "    </tr>\n",
       "    <tr>\n",
       "      <th>4</th>\n",
       "      <td>5371</td>\n",
       "      <td>1989</td>\n",
       "      <td>Graduation</td>\n",
       "      <td>Single</td>\n",
       "      <td>$21,474.00</td>\n",
       "      <td>1</td>\n",
       "      <td>0</td>\n",
       "      <td>4/8/14</td>\n",
       "      <td>0</td>\n",
       "      <td>6</td>\n",
       "      <td>16</td>\n",
       "      <td>24</td>\n",
       "      <td>11</td>\n",
       "      <td>0</td>\n",
       "      <td>34</td>\n",
       "      <td>2</td>\n",
       "      <td>3</td>\n",
       "      <td>1</td>\n",
       "      <td>2</td>\n",
       "      <td>7</td>\n",
       "      <td>1</td>\n",
       "      <td>0</td>\n",
       "      <td>0</td>\n",
       "      <td>0</td>\n",
       "      <td>0</td>\n",
       "      <td>1</td>\n",
       "      <td>0</td>\n",
       "      <td>SP</td>\n",
       "    </tr>\n",
       "  </tbody>\n",
       "</table>\n",
       "</div>"
      ],
      "text/plain": [
       "      ID  Year_Birth   Education Marital_Status      Income   Kidhome  \\\n",
       "0   1826        1970  Graduation       Divorced  $84,835.00         0   \n",
       "1      1        1961  Graduation         Single  $57,091.00         0   \n",
       "2  10476        1958  Graduation        Married  $67,267.00         0   \n",
       "3   1386        1967  Graduation       Together  $32,474.00         1   \n",
       "4   5371        1989  Graduation         Single  $21,474.00         1   \n",
       "\n",
       "   Teenhome Dt_Customer  Recency  MntWines  MntFruits  MntMeatProducts  \\\n",
       "0         0     6/16/14        0       189        104              379   \n",
       "1         0     6/15/14        0       464          5               64   \n",
       "2         1     5/13/14        0       134         11               59   \n",
       "3         1     5/11/14        0        10          0                1   \n",
       "4         0      4/8/14        0         6         16               24   \n",
       "\n",
       "   MntFishProducts  MntSweetProducts  MntGoldProds  NumDealsPurchases  \\\n",
       "0              111               189           218                  1   \n",
       "1                7                 0            37                  1   \n",
       "2               15                 2            30                  1   \n",
       "3                0                 0             0                  1   \n",
       "4               11                 0            34                  2   \n",
       "\n",
       "   NumWebPurchases  NumCatalogPurchases  NumStorePurchases  NumWebVisitsMonth  \\\n",
       "0                4                    4                  6                  1   \n",
       "1                7                    3                  7                  5   \n",
       "2                3                    2                  5                  2   \n",
       "3                1                    0                  2                  7   \n",
       "4                3                    1                  2                  7   \n",
       "\n",
       "   AcceptedCmp3  AcceptedCmp4  AcceptedCmp5  AcceptedCmp1  AcceptedCmp2  \\\n",
       "0             0             0             0             0             0   \n",
       "1             0             0             0             0             1   \n",
       "2             0             0             0             0             0   \n",
       "3             0             0             0             0             0   \n",
       "4             1             0             0             0             0   \n",
       "\n",
       "   Response  Complain Country  \n",
       "0         1         0      SP  \n",
       "1         1         0      CA  \n",
       "2         0         0      US  \n",
       "3         0         0     AUS  \n",
       "4         1         0      SP  "
      ]
     },
     "execution_count": 31,
     "metadata": {},
     "output_type": "execute_result"
    }
   ],
   "source": [
    "df = pd.read_csv('marketing_data.csv')\n",
    "df.head()"
   ]
  },
  {
   "cell_type": "code",
   "execution_count": 32,
   "id": "b9aa1b92",
   "metadata": {},
   "outputs": [
    {
     "data": {
      "text/plain": [
       "(2240, 28)"
      ]
     },
     "execution_count": 32,
     "metadata": {},
     "output_type": "execute_result"
    }
   ],
   "source": [
    "df.shape"
   ]
  },
  {
   "cell_type": "markdown",
   "id": "29fa3b1b",
   "metadata": {},
   "source": [
    "## Question 1\n",
    "Apakah ada features yang data type nya tidak sesuai ?"
   ]
  },
  {
   "cell_type": "code",
   "execution_count": 5,
   "id": "aca85473",
   "metadata": {},
   "outputs": [
    {
     "name": "stdout",
     "output_type": "stream",
     "text": [
      "<class 'pandas.core.frame.DataFrame'>\n",
      "RangeIndex: 2240 entries, 0 to 2239\n",
      "Data columns (total 28 columns):\n",
      " #   Column               Non-Null Count  Dtype \n",
      "---  ------               --------------  ----- \n",
      " 0   ID                   2240 non-null   int64 \n",
      " 1   Year_Birth           2240 non-null   int64 \n",
      " 2   Education            2240 non-null   object\n",
      " 3   Marital_Status       2240 non-null   object\n",
      " 4    Income              2216 non-null   object\n",
      " 5   Kidhome              2240 non-null   int64 \n",
      " 6   Teenhome             2240 non-null   int64 \n",
      " 7   Dt_Customer          2240 non-null   object\n",
      " 8   Recency              2240 non-null   int64 \n",
      " 9   MntWines             2240 non-null   int64 \n",
      " 10  MntFruits            2240 non-null   int64 \n",
      " 11  MntMeatProducts      2240 non-null   int64 \n",
      " 12  MntFishProducts      2240 non-null   int64 \n",
      " 13  MntSweetProducts     2240 non-null   int64 \n",
      " 14  MntGoldProds         2240 non-null   int64 \n",
      " 15  NumDealsPurchases    2240 non-null   int64 \n",
      " 16  NumWebPurchases      2240 non-null   int64 \n",
      " 17  NumCatalogPurchases  2240 non-null   int64 \n",
      " 18  NumStorePurchases    2240 non-null   int64 \n",
      " 19  NumWebVisitsMonth    2240 non-null   int64 \n",
      " 20  AcceptedCmp3         2240 non-null   int64 \n",
      " 21  AcceptedCmp4         2240 non-null   int64 \n",
      " 22  AcceptedCmp5         2240 non-null   int64 \n",
      " 23  AcceptedCmp1         2240 non-null   int64 \n",
      " 24  AcceptedCmp2         2240 non-null   int64 \n",
      " 25  Response             2240 non-null   int64 \n",
      " 26  Complain             2240 non-null   int64 \n",
      " 27  Country              2240 non-null   object\n",
      "dtypes: int64(23), object(5)\n",
      "memory usage: 490.1+ KB\n"
     ]
    }
   ],
   "source": [
    "df.info()"
   ]
  },
  {
   "cell_type": "markdown",
   "id": "60d0ab11-c876-46bf-a869-32d92def81c0",
   "metadata": {},
   "source": [
    "Two features have wrong data type (Income & Dt_Custumer)"
   ]
  },
  {
   "cell_type": "code",
   "execution_count": 33,
   "id": "c2ccc1b6-c7e5-49d7-8c49-45daa61d8800",
   "metadata": {},
   "outputs": [
    {
     "name": "stdout",
     "output_type": "stream",
     "text": [
      "ID int64\n",
      "0 11191\n",
      "\n",
      "Year_Birth int64\n",
      "1893 1996\n",
      "\n",
      "Education object\n",
      "['Graduation' 'PhD' '2n Cycle' 'Master' 'Basic']\n",
      "\n",
      "Marital_Status object\n",
      "['Divorced' 'Single' 'Married' 'Together' 'Widow' 'YOLO' 'Alone' 'Absurd']\n",
      "\n",
      " Income  object\n",
      "['$84,835.00 ' '$57,091.00 ' '$67,267.00 ' ... '$46,310.00 ' '$65,819.00 '\n",
      " '$94,871.00 ']\n",
      "\n",
      "Kidhome int64\n",
      "0 2\n",
      "\n",
      "Teenhome int64\n",
      "0 2\n",
      "\n",
      "Dt_Customer object\n",
      "['6/16/14' '6/15/14' '5/13/14' '5/11/14' '4/8/14' '3/17/14' '1/29/14'\n",
      " '1/18/14' '1/11/14' '12/27/13' '12/9/13' '12/7/13' '10/16/13' '10/5/13'\n",
      " '9/11/13' '8/1/13' '7/23/13' '7/1/13' '5/28/13' '3/26/13' '3/15/13'\n",
      " '2/12/13' '11/23/12' '10/13/12' '9/14/12' '6/29/14' '5/31/14' '5/30/14'\n",
      " '4/27/14' '4/11/14' '10/29/13' '10/9/13' '5/10/13' '5/9/13' '4/25/13'\n",
      " '4/20/13' '3/30/13' '3/1/13' '2/14/13' '1/11/13' '1/3/13' '12/19/12'\n",
      " '12/15/12' '12/2/12' '9/17/12' '9/11/12' '5/12/14' '4/28/14' '3/29/14'\n",
      " '3/6/14' '3/4/14' '2/4/14' '2/3/14' '1/1/14' '12/12/13' '11/15/13'\n",
      " '9/20/13' '9/5/13' '8/31/13' '7/30/13' '7/27/13' '6/22/13' '1/5/13'\n",
      " '11/21/12' '11/11/12' '9/28/12' '9/27/12' '9/7/12' '8/13/12' '8/11/12'\n",
      " '8/2/12' '6/25/14' '5/28/14' '4/14/14' '3/10/14' '2/27/14' '2/7/14'\n",
      " '1/28/14' '11/17/13' '11/7/13' '10/17/13' '10/13/13' '10/12/13' '9/30/13'\n",
      " '7/3/13' '6/10/13' '5/29/13' '4/29/13' '3/10/13' '1/2/13' '11/2/12'\n",
      " '10/18/12' '10/1/12' '9/3/12' '8/26/12' '5/23/14' '5/17/14' '4/21/14'\n",
      " '3/23/14' '12/16/13' '11/26/13' '11/14/13' '11/6/13' '10/6/13' '9/27/13'\n",
      " '9/18/13' '9/9/13' '7/18/13' '7/8/13' '5/27/13' '3/5/13' '2/20/13'\n",
      " '1/12/13' '12/24/12' '11/19/12' '3/28/14' '2/24/14' '9/2/13' '8/20/13'\n",
      " '6/23/13' '5/5/13' '4/5/13' '1/4/13' '12/27/12' '11/10/12' '10/29/12'\n",
      " '9/22/12' '3/31/14' '3/21/14' '2/9/14' '9/23/13' '6/27/13' '3/28/13'\n",
      " '3/12/13' '1/16/13' '1/8/13' '12/29/12' '12/12/12' '11/25/12' '9/21/12'\n",
      " '9/9/12' '9/5/12' '8/17/12' '6/22/14' '5/1/14' '1/3/14' '10/11/13'\n",
      " '8/13/13' '6/9/13' '5/7/13' '10/2/12' '9/12/12' '3/19/14' '3/3/14'\n",
      " '2/22/14' '1/24/14' '12/4/13' '11/28/13' '11/5/13' '10/3/13' '8/9/13'\n",
      " '8/7/13' '7/17/13' '7/9/13' '6/11/13' '5/17/13' '3/23/13' '2/19/13'\n",
      " '1/19/13' '1/10/13' '1/1/13' '11/12/12' '5/18/14' '3/30/14' '1/30/14'\n",
      " '1/26/14' '1/22/14' '1/15/14' '12/13/13' '8/4/13' '5/1/13' '4/24/13'\n",
      " '4/3/13' '2/3/13' '11/16/12' '8/3/12' '4/18/14' '4/1/14' '3/18/14'\n",
      " '2/10/14' '11/23/13' '11/21/13' '10/2/13' '7/21/13' '6/18/13' '3/24/13'\n",
      " '12/6/12' '11/9/12' '2/14/14' '10/22/13' '10/4/13' '9/21/13' '8/5/13'\n",
      " '7/14/13' '7/4/13' '4/12/13' '4/10/13' '4/8/13' '3/31/13' '3/17/13'\n",
      " '1/21/13' '12/10/12' '9/24/12' '8/6/12' '6/18/14' '4/5/14' '12/21/13'\n",
      " '10/27/13' '10/21/13' '9/19/13' '9/4/13' '6/25/13' '4/27/13' '4/18/13'\n",
      " '12/30/12' '8/22/12' '8/8/12' '6/19/14' '4/20/14' '2/28/14' '12/17/13'\n",
      " '11/25/13' '10/28/13' '8/15/13' '7/5/13' '6/19/13' '6/16/13' '4/22/13'\n",
      " '3/19/13' '2/23/13' '2/15/13' '10/31/12' '10/7/12' '8/9/12' '5/6/14'\n",
      " '4/15/14' '3/5/14' '2/19/14' '9/7/13' '8/6/13' '7/25/13' '4/30/13'\n",
      " '9/10/12' '3/20/14' '9/28/13' '9/24/13' '2/16/13' '11/22/12' '9/18/12'\n",
      " '8/16/12' '6/5/14' '4/13/14' '4/10/14' '4/3/14' '2/12/14' '12/15/13'\n",
      " '10/30/13' '8/26/13' '2/2/13' '1/25/13' '11/17/12' '11/13/12' '11/7/12'\n",
      " '11/1/12' '10/16/12' '5/8/14' '3/2/14' '6/24/13' '6/13/13' '4/23/13'\n",
      " '4/15/13' '1/29/13' '10/30/12' '10/23/12' '4/17/14' '2/25/14' '12/11/13'\n",
      " '10/10/13' '5/20/13' '5/18/13' '4/7/13' '3/3/13' '12/7/12' '11/28/12'\n",
      " '10/27/12' '9/15/12' '6/17/14' '5/29/14' '3/1/14' '2/15/14' '12/23/13'\n",
      " '11/29/13' '10/25/13' '8/17/13' '6/6/13' '3/29/13' '9/23/12' '8/30/12'\n",
      " '8/1/12' '2/8/14' '1/25/14' '11/27/13' '10/19/13' '3/7/13' '2/28/13'\n",
      " '1/17/13' '11/20/12' '11/5/12' '11/3/12' '8/31/12' '8/12/12' '5/15/14'\n",
      " '4/12/14' '4/6/14' '2/6/14' '7/29/13' '6/29/13' '6/17/13' '6/8/13'\n",
      " '5/26/13' '11/8/12' '8/4/12' '4/30/14' '4/7/14' '3/12/14' '4/13/13'\n",
      " '2/13/13' '6/3/14' '3/25/14' '2/17/14' '2/5/14' '1/27/14' '1/14/14'\n",
      " '7/11/13' '6/2/13' '6/1/13' '5/4/13' '3/18/13' '12/3/12' '11/24/12'\n",
      " '10/26/12' '6/20/14' '1/19/14' '1/9/14' '12/29/13' '12/26/13' '12/8/13'\n",
      " '11/20/13' '8/23/13' '8/19/13' '7/24/13' '10/6/12' '8/18/12' '5/7/14'\n",
      " '11/9/13' '8/25/13' '5/16/13' '4/1/13' '3/27/13' '2/8/13' '9/20/12'\n",
      " '5/22/14' '12/30/13' '11/2/13' '8/21/13' '7/12/13' '6/28/13' '6/4/13'\n",
      " '5/31/13' '3/6/13' '2/18/13' '9/26/12' '8/19/12' '5/2/14' '4/29/14'\n",
      " '2/2/14' '1/5/14' '12/5/13' '11/18/13' '9/10/13' '8/3/13' '2/21/13'\n",
      " '2/10/13' '1/31/13' '12/9/12' '9/29/12' '6/9/14' '4/2/14' '3/24/14'\n",
      " '1/23/14' '9/16/13' '9/12/13' '7/15/13' '3/9/13' '2/9/13' '12/14/12'\n",
      " '10/17/12' '6/23/14' '6/12/14' '6/7/14' '4/9/14' '2/13/14' '12/6/13'\n",
      " '10/20/13' '6/20/13' '5/8/13' '3/11/13' '9/6/12' '3/9/14' '2/11/14'\n",
      " '10/8/13' '8/28/13' '7/6/13' '5/30/13' '5/22/13' '4/2/13' '3/20/13'\n",
      " '3/14/13' '1/22/13' '9/8/12' '8/25/12' '8/14/12' '11/19/13' '6/3/13'\n",
      " '12/21/12' '10/10/12' '8/7/12' '12/24/13' '12/14/13' '5/15/13' '5/6/13'\n",
      " '1/7/13' '11/29/12' '4/24/14' '3/8/14' '7/16/13' '2/22/13' '1/20/13'\n",
      " '1/13/13' '12/25/12' '12/11/12' '6/27/14' '3/16/14' '11/3/13' '9/25/13'\n",
      " '9/15/13' '9/1/13' '8/2/13' '8/27/12' '4/4/14' '9/22/13' '12/22/12'\n",
      " '12/16/12' '8/20/12' '1/7/14' '12/1/13' '9/26/13' '2/25/13' '10/24/12'\n",
      " '10/22/12' '7/31/12' '5/19/14' '5/3/14' '4/16/14' '12/31/13' '12/2/13'\n",
      " '7/22/13' '4/21/13' '4/11/13' '3/22/14' '2/6/13' '12/4/12' '11/6/12'\n",
      " '8/28/12' '7/2/13' '10/12/12' '5/16/14' '4/25/14' '11/13/13' '9/6/13'\n",
      " '11/18/12' '10/15/12' '6/14/14' '1/17/14' '2/7/13' '12/20/13' '9/13/13'\n",
      " '1/6/13' '5/26/14' '1/13/14' '8/8/13' '4/6/13' '2/26/14' '5/14/13'\n",
      " '8/24/12' '5/27/14' '2/23/14' '1/10/14' '7/19/13' '3/25/13' '2/11/13'\n",
      " '1/15/13' '12/5/12' '6/13/14' '6/2/14' '11/1/13' '8/16/13' '2/17/13'\n",
      " '2/4/13' '10/19/12' '6/26/14' '10/23/13' '4/14/13' '10/28/12' '10/1/13'\n",
      " '3/8/13' '11/14/12' '1/12/14' '11/4/13' '8/22/13' '6/21/13' '1/23/13'\n",
      " '10/21/12' '10/4/12' '1/31/14' '1/21/14' '12/28/13' '8/11/13' '5/13/13'\n",
      " '9/2/12' '6/24/14' '6/8/14' '5/24/14' '10/18/13' '9/17/13' '8/14/13'\n",
      " '7/20/13' '6/30/13' '5/11/13' '4/16/13' '5/25/14' '5/10/14' '5/4/14'\n",
      " '8/29/13' '3/22/13' '6/4/14' '5/23/13' '2/1/13' '2/16/14' '10/24/13'\n",
      " '3/2/13' '12/18/12' '11/4/12' '6/11/14' '6/14/13' '6/10/14' '5/5/14'\n",
      " '4/19/14' '8/18/13' '2/26/13' '8/30/13' '6/12/13' '5/12/13' '10/9/12'\n",
      " '11/10/13' '8/24/13' '9/4/12' '2/27/13' '1/6/14' '7/7/13' '11/26/12'\n",
      " '8/29/12' '5/2/13' '3/4/13' '1/27/13' '8/23/12' '10/14/13' '12/23/12'\n",
      " '12/1/12' '8/5/12' '8/27/13' '12/17/12' '6/21/14' '3/26/14' '11/22/13'\n",
      " '8/21/12' '4/22/14' '10/26/13' '5/9/14' '4/17/13' '3/21/13' '1/24/13'\n",
      " '12/28/12' '3/13/14' '2/1/14' '10/15/13' '1/14/13' '10/5/12' '7/13/13'\n",
      " '4/23/14' '2/18/14' '11/12/13' '8/12/13' '12/31/12' '6/28/14' '12/3/13'\n",
      " '12/26/12' '7/30/12' '1/2/14' '4/19/13' '1/26/13' '10/14/12' '9/30/12'\n",
      " '3/11/14' '9/14/13' '7/28/13' '5/19/13' '4/28/13' '1/9/13' '10/20/12'\n",
      " '7/31/13' '5/21/13' '9/25/12' '5/3/13' '12/8/12' '3/27/14' '12/18/13'\n",
      " '11/30/13' '8/10/13' '3/16/13' '11/30/12' '3/7/14' '12/19/13' '10/25/12'\n",
      " '12/25/13' '1/4/14' '11/8/13' '11/27/12' '7/26/13' '12/20/12' '10/11/12'\n",
      " '4/26/14' '12/22/13' '6/26/13' '5/24/13' '8/15/12' '12/10/13' '9/19/12'\n",
      " '8/10/12' '6/6/14' '5/25/13' '4/9/13' '9/1/12']\n",
      "\n",
      "Recency int64\n",
      "0 99\n",
      "\n",
      "MntWines int64\n",
      "0 1493\n",
      "\n",
      "MntFruits int64\n",
      "0 199\n",
      "\n",
      "MntMeatProducts int64\n",
      "0 1725\n",
      "\n",
      "MntFishProducts int64\n",
      "0 259\n",
      "\n",
      "MntSweetProducts int64\n",
      "0 263\n",
      "\n",
      "MntGoldProds int64\n",
      "0 362\n",
      "\n",
      "NumDealsPurchases int64\n",
      "0 15\n",
      "\n",
      "NumWebPurchases int64\n",
      "0 27\n",
      "\n",
      "NumCatalogPurchases int64\n",
      "0 28\n",
      "\n",
      "NumStorePurchases int64\n",
      "0 13\n",
      "\n",
      "NumWebVisitsMonth int64\n",
      "0 20\n",
      "\n",
      "AcceptedCmp3 int64\n",
      "0 1\n",
      "\n",
      "AcceptedCmp4 int64\n",
      "0 1\n",
      "\n",
      "AcceptedCmp5 int64\n",
      "0 1\n",
      "\n",
      "AcceptedCmp1 int64\n",
      "0 1\n",
      "\n",
      "AcceptedCmp2 int64\n",
      "0 1\n",
      "\n",
      "Response int64\n",
      "0 1\n",
      "\n",
      "Complain int64\n",
      "0 1\n",
      "\n",
      "Country object\n",
      "['SP' 'CA' 'US' 'AUS' 'GER' 'IND' 'SA' 'ME']\n",
      "\n"
     ]
    }
   ],
   "source": [
    "for dtype, col in (list(zip(df.dtypes, df.columns))):\n",
    "    if dtype == 'int64' or dtype == 'float64':\n",
    "        print(col, dtype)\n",
    "        print(df[col].min(), df[col].max())\n",
    "    else: \n",
    "        print(col, dtype)\n",
    "        print(df[col].unique())\n",
    "    print()"
   ]
  },
  {
   "cell_type": "code",
   "execution_count": 7,
   "id": "94c3655d-af46-4f30-b2e8-2bdada01ec46",
   "metadata": {},
   "outputs": [],
   "source": [
    "df.columns = df.columns.str.replace(' ', '')"
   ]
  },
  {
   "cell_type": "code",
   "execution_count": 8,
   "id": "326c0d3e-d899-4126-bed7-f2f234ed3c56",
   "metadata": {},
   "outputs": [
    {
     "data": {
      "text/plain": [
       "0       $84,835.00 \n",
       "1       $57,091.00 \n",
       "2       $67,267.00 \n",
       "3       $32,474.00 \n",
       "4       $21,474.00 \n",
       "           ...     \n",
       "2235    $66,476.00 \n",
       "2236    $31,056.00 \n",
       "2237    $46,310.00 \n",
       "2238    $65,819.00 \n",
       "2239    $94,871.00 \n",
       "Name: Income, Length: 2240, dtype: object"
      ]
     },
     "execution_count": 8,
     "metadata": {},
     "output_type": "execute_result"
    }
   ],
   "source": [
    "df.Income"
   ]
  },
  {
   "cell_type": "code",
   "execution_count": 9,
   "id": "8c77d410-3962-4a9c-9b66-be3eb4496df4",
   "metadata": {},
   "outputs": [],
   "source": [
    "df['Income'] = df['Income'].str.replace('$', '')\n",
    "df['Income'] = df['Income'].str.replace(',', '')"
   ]
  },
  {
   "cell_type": "code",
   "execution_count": 10,
   "id": "521da2ee-de8b-4b7a-ad35-d52dcbd5d52e",
   "metadata": {},
   "outputs": [
    {
     "data": {
      "text/plain": [
       "0       84835.00 \n",
       "1       57091.00 \n",
       "2       67267.00 \n",
       "3       32474.00 \n",
       "4       21474.00 \n",
       "          ...    \n",
       "2235    66476.00 \n",
       "2236    31056.00 \n",
       "2237    46310.00 \n",
       "2238    65819.00 \n",
       "2239    94871.00 \n",
       "Name: Income, Length: 2240, dtype: object"
      ]
     },
     "execution_count": 10,
     "metadata": {},
     "output_type": "execute_result"
    }
   ],
   "source": [
    "df.Income"
   ]
  },
  {
   "cell_type": "code",
   "execution_count": 11,
   "id": "56b25ff7-9993-4565-a05f-e8f080a86888",
   "metadata": {},
   "outputs": [],
   "source": [
    "df['Income'] = df['Income'].astype('float')"
   ]
  },
  {
   "cell_type": "code",
   "execution_count": 12,
   "id": "2aa0af55-06c8-4d5c-8ab8-1f8efefa6314",
   "metadata": {},
   "outputs": [],
   "source": [
    "df['Dt_Customer'] = pd.to_datetime(df['Dt_Customer'])"
   ]
  },
  {
   "cell_type": "code",
   "execution_count": 13,
   "id": "cbf20260-8e1f-41a7-8f1c-0f9962420ea2",
   "metadata": {},
   "outputs": [
    {
     "name": "stdout",
     "output_type": "stream",
     "text": [
      "<class 'pandas.core.frame.DataFrame'>\n",
      "RangeIndex: 2240 entries, 0 to 2239\n",
      "Data columns (total 28 columns):\n",
      " #   Column               Non-Null Count  Dtype         \n",
      "---  ------               --------------  -----         \n",
      " 0   ID                   2240 non-null   int64         \n",
      " 1   Year_Birth           2240 non-null   int64         \n",
      " 2   Education            2240 non-null   object        \n",
      " 3   Marital_Status       2240 non-null   object        \n",
      " 4   Income               2216 non-null   float64       \n",
      " 5   Kidhome              2240 non-null   int64         \n",
      " 6   Teenhome             2240 non-null   int64         \n",
      " 7   Dt_Customer          2240 non-null   datetime64[ns]\n",
      " 8   Recency              2240 non-null   int64         \n",
      " 9   MntWines             2240 non-null   int64         \n",
      " 10  MntFruits            2240 non-null   int64         \n",
      " 11  MntMeatProducts      2240 non-null   int64         \n",
      " 12  MntFishProducts      2240 non-null   int64         \n",
      " 13  MntSweetProducts     2240 non-null   int64         \n",
      " 14  MntGoldProds         2240 non-null   int64         \n",
      " 15  NumDealsPurchases    2240 non-null   int64         \n",
      " 16  NumWebPurchases      2240 non-null   int64         \n",
      " 17  NumCatalogPurchases  2240 non-null   int64         \n",
      " 18  NumStorePurchases    2240 non-null   int64         \n",
      " 19  NumWebVisitsMonth    2240 non-null   int64         \n",
      " 20  AcceptedCmp3         2240 non-null   int64         \n",
      " 21  AcceptedCmp4         2240 non-null   int64         \n",
      " 22  AcceptedCmp5         2240 non-null   int64         \n",
      " 23  AcceptedCmp1         2240 non-null   int64         \n",
      " 24  AcceptedCmp2         2240 non-null   int64         \n",
      " 25  Response             2240 non-null   int64         \n",
      " 26  Complain             2240 non-null   int64         \n",
      " 27  Country              2240 non-null   object        \n",
      "dtypes: datetime64[ns](1), float64(1), int64(23), object(3)\n",
      "memory usage: 490.1+ KB\n"
     ]
    }
   ],
   "source": [
    "df.info()"
   ]
  },
  {
   "cell_type": "markdown",
   "id": "7d57435a-df6f-4dc4-8ad1-83fde56e589e",
   "metadata": {},
   "source": [
    "### Question 1\n",
    "Adakah duplicate,  missing value atau outliers? Bagaimana mengatasi hal-hal tersebut?"
   ]
  },
  {
   "cell_type": "markdown",
   "id": "08254eed-4276-45ef-beed-396d1a27b60c",
   "metadata": {},
   "source": [
    "# Duplicates"
   ]
  },
  {
   "cell_type": "code",
   "execution_count": 14,
   "id": "674c5015-cb6d-429d-b5fb-5e05ad954dc4",
   "metadata": {},
   "outputs": [
    {
     "data": {
      "text/plain": [
       "0       False\n",
       "1       False\n",
       "2       False\n",
       "3       False\n",
       "4       False\n",
       "        ...  \n",
       "2235    False\n",
       "2236    False\n",
       "2237    False\n",
       "2238    False\n",
       "2239    False\n",
       "Length: 2240, dtype: bool"
      ]
     },
     "execution_count": 14,
     "metadata": {},
     "output_type": "execute_result"
    }
   ],
   "source": [
    "df.duplicated()"
   ]
  },
  {
   "cell_type": "code",
   "execution_count": 15,
   "id": "357d9b2f",
   "metadata": {},
   "outputs": [
    {
     "data": {
      "text/plain": [
       "0"
      ]
     },
     "execution_count": 15,
     "metadata": {},
     "output_type": "execute_result"
    }
   ],
   "source": [
    "df.duplicated().sum()"
   ]
  },
  {
   "cell_type": "markdown",
   "id": "3983eb4b",
   "metadata": {},
   "source": [
    "Tidak terdapat duplikasi data. jika terdapat duplikasi data maka akan bernilai false dan sum akan bernilai lebih dari 0"
   ]
  },
  {
   "cell_type": "markdown",
   "id": "91c5e712",
   "metadata": {},
   "source": [
    "# Missing Values"
   ]
  },
  {
   "cell_type": "code",
   "execution_count": 28,
   "id": "7b84b129",
   "metadata": {},
   "outputs": [
    {
     "data": {
      "text/plain": [
       "ID                     0\n",
       "Year_Birth             0\n",
       "Complain               0\n",
       "Response               0\n",
       "AcceptedCmp2           0\n",
       "AcceptedCmp1           0\n",
       "AcceptedCmp5           0\n",
       "AcceptedCmp4           0\n",
       "AcceptedCmp3           0\n",
       "NumWebVisitsMonth      0\n",
       "NumStorePurchases      0\n",
       "NumCatalogPurchases    0\n",
       "NumWebPurchases        0\n",
       "NumDealsPurchases      0\n",
       "MntGoldProds           0\n",
       "MntSweetProducts       0\n",
       "MntFishProducts        0\n",
       "MntMeatProducts        0\n",
       "MntFruits              0\n",
       "MntWines               0\n",
       "Recency                0\n",
       "Dt_Customer            0\n",
       "Teenhome               0\n",
       "Kidhome                0\n",
       "Income                 0\n",
       "Marital_Status         0\n",
       "Education              0\n",
       "Country                0\n",
       "dtype: int64"
      ]
     },
     "execution_count": 28,
     "metadata": {},
     "output_type": "execute_result"
    }
   ],
   "source": [
    "df.isna().sum().sort_values(ascending=False)"
   ]
  },
  {
   "cell_type": "code",
   "execution_count": 17,
   "id": "035342e7",
   "metadata": {},
   "outputs": [
    {
     "data": {
      "text/plain": [
       "<AxesSubplot: xlabel='Income'>"
      ]
     },
     "execution_count": 17,
     "metadata": {},
     "output_type": "execute_result"
    },
    {
     "data": {
      "image/png": "[encoded data removed]",
      "text/plain": [
       "<Figure size 640x480 with 1 Axes>"
      ]
     },
     "metadata": {},
     "output_type": "display_data"
    }
   ],
   "source": [
    "sns.distplot(df['Income'], kde=False, hist=True)"
   ]
  },
  {
   "cell_type": "code",
   "execution_count": 18,
   "id": "45e0779e",
   "metadata": {},
   "outputs": [
    {
     "data": {
      "text/plain": [
       "<AxesSubplot: >"
      ]
     },
     "execution_count": 18,
     "metadata": {},
     "output_type": "execute_result"
    },
    {
     "data": {
      "image/png": "[encoded data removed]",
      "text/plain": [
       "<Figure size 300x400 with 1 Axes>"
      ]
     },
     "metadata": {},
     "output_type": "display_data"
    }
   ],
   "source": [
    "df['Income'].plot(kind='box', figsize=(3,4))"
   ]
  },
  {
   "cell_type": "code",
   "execution_count": 19,
   "id": "f98e2a24",
   "metadata": {},
   "outputs": [],
   "source": [
    "df['Income'] = df['Income'].fillna(df['Income'].median())"
   ]
  },
  {
   "cell_type": "code",
   "execution_count": 20,
   "id": "305fabc1",
   "metadata": {},
   "outputs": [
    {
     "data": {
      "text/plain": [
       "Index(['ID', 'Year_Birth', 'Education', 'Marital_Status', 'Income', 'Kidhome',\n",
       "       'Teenhome', 'Dt_Customer', 'Recency', 'MntWines', 'MntFruits',\n",
       "       'MntMeatProducts', 'MntFishProducts', 'MntSweetProducts',\n",
       "       'MntGoldProds', 'NumDealsPurchases', 'NumWebPurchases',\n",
       "       'NumCatalogPurchases', 'NumStorePurchases', 'NumWebVisitsMonth',\n",
       "       'AcceptedCmp3', 'AcceptedCmp4', 'AcceptedCmp5', 'AcceptedCmp1',\n",
       "       'AcceptedCmp2', 'Response', 'Complain', 'Country'],\n",
       "      dtype='object')"
      ]
     },
     "execution_count": 20,
     "metadata": {},
     "output_type": "execute_result"
    }
   ],
   "source": [
    "df.columns"
   ]
  },
  {
   "cell_type": "code",
   "execution_count": 21,
   "id": "aca83a7a",
   "metadata": {},
   "outputs": [],
   "source": [
    "df_to_plot = df.select_dtypes(include=['float', 'int'])\n",
    "df_to_plot.drop(columns=['ID', 'AcceptedCmp1', 'AcceptedCmp2', 'AcceptedCmp3', 'AcceptedCmp4', 'AcceptedCmp5', 'Response', 'Complain'], inplace=True)"
   ]
  },
  {
   "cell_type": "code",
   "execution_count": 22,
   "id": "6d2871ba",
   "metadata": {},
   "outputs": [
    {
     "data": {
      "text/plain": [
       "1893"
      ]
     },
     "execution_count": 22,
     "metadata": {},
     "output_type": "execute_result"
    }
   ],
   "source": [
    "df['Year_Birth'].min()"
   ]
  },
  {
   "cell_type": "code",
   "execution_count": 42,
   "id": "8dceb80f",
   "metadata": {},
   "outputs": [
    {
     "data": {
      "image/png": "[encoded data removed]",
      "text/plain": [
       "<Figure size 1300x1400 with 16 Axes>"
      ]
     },
     "metadata": {},
     "output_type": "display_data"
    }
   ],
   "source": [
    "df_to_plot.plot(subplots=True, layout=(4,4), kind='box', figsize=(13,14))\n",
    "plt.subplots_adjust(wspace=2)"
   ]
  },
  {
   "cell_type": "code",
   "execution_count": 43,
   "id": "b3ca5284",
   "metadata": {},
   "outputs": [],
   "source": [
    "df = df[df['Year_Birth'] > 1900].reset_index(drop=True)\n"
   ]
  },
  {
   "cell_type": "code",
   "execution_count": 44,
   "id": "59e74079",
   "metadata": {},
   "outputs": [
    {
     "data": {
      "text/plain": [
       "2169    1940\n",
       "1738    1941\n",
       "1473    1943\n",
       "1642    1943\n",
       "1348    1943\n",
       "        ... \n",
       "962     1995\n",
       "696     1995\n",
       "1296    1995\n",
       "1822    1996\n",
       "561     1996\n",
       "Name: Year_Birth, Length: 2237, dtype: int64"
      ]
     },
     "execution_count": 44,
     "metadata": {},
     "output_type": "execute_result"
    }
   ],
   "source": [
    "df['Year_Birth'].sort_values(ascending=True)"
   ]
  },
  {
   "cell_type": "markdown",
   "id": "ea57fc8d",
   "metadata": {},
   "source": [
    "## Question 3 \n",
    "Apakah terdapat distribusi yang tidak masuk akal ?"
   ]
  },
  {
   "cell_type": "code",
   "execution_count": 45,
   "id": "f26b8034",
   "metadata": {},
   "outputs": [
    {
     "data": {
      "text/plain": [
       "Index(['Year_Birth', 'Income', 'Kidhome', 'Teenhome', 'Recency', 'MntWines',\n",
       "       'MntFruits', 'MntMeatProducts', 'MntFishProducts', 'MntSweetProducts',\n",
       "       'MntGoldProds', 'NumDealsPurchases', 'NumWebPurchases',\n",
       "       'NumCatalogPurchases', 'NumStorePurchases', 'NumWebVisitsMonth'],\n",
       "      dtype='object')"
      ]
     },
     "execution_count": 45,
     "metadata": {},
     "output_type": "execute_result"
    }
   ],
   "source": [
    "numeric = df_to_plot.columns\n",
    "numeric"
   ]
  },
  {
   "cell_type": "code",
   "execution_count": 48,
   "id": "75d663cb",
   "metadata": {},
   "outputs": [
    {
     "ename": "KeyError",
     "evalue": "\"['Income'] not in index\"",
     "output_type": "error",
     "traceback": [
      "\u001b[1;31m---------------------------------------------------------------------------\u001b[0m",
      "\u001b[1;31mKeyError\u001b[0m                                  Traceback (most recent call last)",
      "Cell \u001b[1;32mIn [48], line 1\u001b[0m\n\u001b[1;32m----> 1\u001b[0m \u001b[43mdf\u001b[49m\u001b[38;5;241;43m.\u001b[39;49m\u001b[43mhist\u001b[49m\u001b[43m(\u001b[49m\u001b[43mbins\u001b[49m\u001b[38;5;241;43m=\u001b[39;49m\u001b[38;5;241;43m50\u001b[39;49m\u001b[43m,\u001b[49m\u001b[43m \u001b[49m\u001b[43max\u001b[49m\u001b[38;5;241;43m=\u001b[39;49m\u001b[43mplt\u001b[49m\u001b[38;5;241;43m.\u001b[39;49m\u001b[43mgrid\u001b[49m\u001b[43m(\u001b[49m\u001b[43m)\u001b[49m\u001b[43m,\u001b[49m\u001b[43m \u001b[49m\u001b[43mlayout\u001b[49m\u001b[38;5;241;43m=\u001b[39;49m\u001b[43m(\u001b[49m\u001b[38;5;241;43m5\u001b[39;49m\u001b[43m,\u001b[49m\u001b[38;5;241;43m5\u001b[39;49m\u001b[43m)\u001b[49m\u001b[43m,\u001b[49m\u001b[43m \u001b[49m\u001b[43mcolumn\u001b[49m\u001b[38;5;241;43m=\u001b[39;49m\u001b[43m(\u001b[49m\u001b[43mnumeric\u001b[49m\u001b[43m)\u001b[49m\u001b[43m,\u001b[49m\u001b[43m \u001b[49m\u001b[43mfigsize\u001b[49m\u001b[38;5;241;43m=\u001b[39;49m\u001b[43m(\u001b[49m\u001b[38;5;241;43m15\u001b[39;49m\u001b[43m,\u001b[49m\u001b[38;5;241;43m10\u001b[39;49m\u001b[43m)\u001b[49m\u001b[43m)\u001b[49m\n\u001b[0;32m      2\u001b[0m plt\u001b[38;5;241m.\u001b[39mtight_layout()\n\u001b[0;32m      3\u001b[0m plt\u001b[38;5;241m.\u001b[39mshow()\n",
      "File \u001b[1;32m~\\AppData\\Local\\Programs\\Python\\Python310\\lib\\site-packages\\pandas\\plotting\\_core.py:231\u001b[0m, in \u001b[0;36mhist_frame\u001b[1;34m(data, column, by, grid, xlabelsize, xrot, ylabelsize, yrot, ax, sharex, sharey, figsize, layout, bins, backend, legend, **kwargs)\u001b[0m\n\u001b[0;32m    140\u001b[0m \u001b[38;5;124;03m\"\"\"\u001b[39;00m\n\u001b[0;32m    141\u001b[0m \u001b[38;5;124;03mMake a histogram of the DataFrame's columns.\u001b[39;00m\n\u001b[0;32m    142\u001b[0m \n\u001b[1;32m   (...)\u001b[0m\n\u001b[0;32m    228\u001b[0m \u001b[38;5;124;03m    >>> hist = df.hist(bins=3)\u001b[39;00m\n\u001b[0;32m    229\u001b[0m \u001b[38;5;124;03m\"\"\"\u001b[39;00m\n\u001b[0;32m    230\u001b[0m plot_backend \u001b[38;5;241m=\u001b[39m _get_plot_backend(backend)\n\u001b[1;32m--> 231\u001b[0m \u001b[38;5;28;01mreturn\u001b[39;00m plot_backend\u001b[38;5;241m.\u001b[39mhist_frame(\n\u001b[0;32m    232\u001b[0m     data,\n\u001b[0;32m    233\u001b[0m     column\u001b[38;5;241m=\u001b[39mcolumn,\n\u001b[0;32m    234\u001b[0m     by\u001b[38;5;241m=\u001b[39mby,\n\u001b[0;32m    235\u001b[0m     grid\u001b[38;5;241m=\u001b[39mgrid,\n\u001b[0;32m    236\u001b[0m     xlabelsize\u001b[38;5;241m=\u001b[39mxlabelsize,\n\u001b[0;32m    237\u001b[0m     xrot\u001b[38;5;241m=\u001b[39mxrot,\n\u001b[0;32m    238\u001b[0m     ylabelsize\u001b[38;5;241m=\u001b[39mylabelsize,\n\u001b[0;32m    239\u001b[0m     yrot\u001b[38;5;241m=\u001b[39myrot,\n\u001b[0;32m    240\u001b[0m     ax\u001b[38;5;241m=\u001b[39max,\n\u001b[0;32m    241\u001b[0m     sharex\u001b[38;5;241m=\u001b[39msharex,\n\u001b[0;32m    242\u001b[0m     sharey\u001b[38;5;241m=\u001b[39msharey,\n\u001b[0;32m    243\u001b[0m     figsize\u001b[38;5;241m=\u001b[39mfigsize,\n\u001b[0;32m    244\u001b[0m     layout\u001b[38;5;241m=\u001b[39mlayout,\n\u001b[0;32m    245\u001b[0m     legend\u001b[38;5;241m=\u001b[39mlegend,\n\u001b[0;32m    246\u001b[0m     bins\u001b[38;5;241m=\u001b[39mbins,\n\u001b[0;32m    247\u001b[0m     \u001b[38;5;241m*\u001b[39m\u001b[38;5;241m*\u001b[39mkwargs,\n\u001b[0;32m    248\u001b[0m )\n",
      "File \u001b[1;32m~\\AppData\\Local\\Programs\\Python\\Python310\\lib\\site-packages\\pandas\\plotting\\_matplotlib\\hist.py:491\u001b[0m, in \u001b[0;36mhist_frame\u001b[1;34m(data, column, by, grid, xlabelsize, xrot, ylabelsize, yrot, ax, sharex, sharey, figsize, layout, bins, legend, **kwds)\u001b[0m\n\u001b[0;32m    489\u001b[0m     \u001b[38;5;28;01mif\u001b[39;00m \u001b[38;5;129;01mnot\u001b[39;00m \u001b[38;5;28misinstance\u001b[39m(column, (\u001b[38;5;28mlist\u001b[39m, np\u001b[38;5;241m.\u001b[39mndarray, ABCIndex)):\n\u001b[0;32m    490\u001b[0m         column \u001b[38;5;241m=\u001b[39m [column]\n\u001b[1;32m--> 491\u001b[0m     data \u001b[38;5;241m=\u001b[39m \u001b[43mdata\u001b[49m\u001b[43m[\u001b[49m\u001b[43mcolumn\u001b[49m\u001b[43m]\u001b[49m\n\u001b[0;32m    492\u001b[0m \u001b[38;5;66;03m# GH32590\u001b[39;00m\n\u001b[0;32m    493\u001b[0m data \u001b[38;5;241m=\u001b[39m data\u001b[38;5;241m.\u001b[39mselect_dtypes(\n\u001b[0;32m    494\u001b[0m     include\u001b[38;5;241m=\u001b[39m(np\u001b[38;5;241m.\u001b[39mnumber, \u001b[38;5;124m\"\u001b[39m\u001b[38;5;124mdatetime64\u001b[39m\u001b[38;5;124m\"\u001b[39m, \u001b[38;5;124m\"\u001b[39m\u001b[38;5;124mdatetimetz\u001b[39m\u001b[38;5;124m\"\u001b[39m), exclude\u001b[38;5;241m=\u001b[39m\u001b[38;5;124m\"\u001b[39m\u001b[38;5;124mtimedelta\u001b[39m\u001b[38;5;124m\"\u001b[39m\n\u001b[0;32m    495\u001b[0m )\n",
      "File \u001b[1;32m~\\AppData\\Local\\Programs\\Python\\Python310\\lib\\site-packages\\pandas\\core\\frame.py:3811\u001b[0m, in \u001b[0;36mDataFrame.__getitem__\u001b[1;34m(self, key)\u001b[0m\n\u001b[0;32m   3809\u001b[0m     \u001b[38;5;28;01mif\u001b[39;00m is_iterator(key):\n\u001b[0;32m   3810\u001b[0m         key \u001b[38;5;241m=\u001b[39m \u001b[38;5;28mlist\u001b[39m(key)\n\u001b[1;32m-> 3811\u001b[0m     indexer \u001b[38;5;241m=\u001b[39m \u001b[38;5;28;43mself\u001b[39;49m\u001b[38;5;241;43m.\u001b[39;49m\u001b[43mcolumns\u001b[49m\u001b[38;5;241;43m.\u001b[39;49m\u001b[43m_get_indexer_strict\u001b[49m\u001b[43m(\u001b[49m\u001b[43mkey\u001b[49m\u001b[43m,\u001b[49m\u001b[43m \u001b[49m\u001b[38;5;124;43m\"\u001b[39;49m\u001b[38;5;124;43mcolumns\u001b[39;49m\u001b[38;5;124;43m\"\u001b[39;49m\u001b[43m)\u001b[49m[\u001b[38;5;241m1\u001b[39m]\n\u001b[0;32m   3813\u001b[0m \u001b[38;5;66;03m# take() does not accept boolean indexers\u001b[39;00m\n\u001b[0;32m   3814\u001b[0m \u001b[38;5;28;01mif\u001b[39;00m \u001b[38;5;28mgetattr\u001b[39m(indexer, \u001b[38;5;124m\"\u001b[39m\u001b[38;5;124mdtype\u001b[39m\u001b[38;5;124m\"\u001b[39m, \u001b[38;5;28;01mNone\u001b[39;00m) \u001b[38;5;241m==\u001b[39m \u001b[38;5;28mbool\u001b[39m:\n",
      "File \u001b[1;32m~\\AppData\\Local\\Programs\\Python\\Python310\\lib\\site-packages\\pandas\\core\\indexes\\base.py:6113\u001b[0m, in \u001b[0;36mIndex._get_indexer_strict\u001b[1;34m(self, key, axis_name)\u001b[0m\n\u001b[0;32m   6110\u001b[0m \u001b[38;5;28;01melse\u001b[39;00m:\n\u001b[0;32m   6111\u001b[0m     keyarr, indexer, new_indexer \u001b[38;5;241m=\u001b[39m \u001b[38;5;28mself\u001b[39m\u001b[38;5;241m.\u001b[39m_reindex_non_unique(keyarr)\n\u001b[1;32m-> 6113\u001b[0m \u001b[38;5;28;43mself\u001b[39;49m\u001b[38;5;241;43m.\u001b[39;49m\u001b[43m_raise_if_missing\u001b[49m\u001b[43m(\u001b[49m\u001b[43mkeyarr\u001b[49m\u001b[43m,\u001b[49m\u001b[43m \u001b[49m\u001b[43mindexer\u001b[49m\u001b[43m,\u001b[49m\u001b[43m \u001b[49m\u001b[43maxis_name\u001b[49m\u001b[43m)\u001b[49m\n\u001b[0;32m   6115\u001b[0m keyarr \u001b[38;5;241m=\u001b[39m \u001b[38;5;28mself\u001b[39m\u001b[38;5;241m.\u001b[39mtake(indexer)\n\u001b[0;32m   6116\u001b[0m \u001b[38;5;28;01mif\u001b[39;00m \u001b[38;5;28misinstance\u001b[39m(key, Index):\n\u001b[0;32m   6117\u001b[0m     \u001b[38;5;66;03m# GH 42790 - Preserve name from an Index\u001b[39;00m\n",
      "File \u001b[1;32m~\\AppData\\Local\\Programs\\Python\\Python310\\lib\\site-packages\\pandas\\core\\indexes\\base.py:6176\u001b[0m, in \u001b[0;36mIndex._raise_if_missing\u001b[1;34m(self, key, indexer, axis_name)\u001b[0m\n\u001b[0;32m   6173\u001b[0m     \u001b[38;5;28;01mraise\u001b[39;00m \u001b[38;5;167;01mKeyError\u001b[39;00m(\u001b[38;5;124mf\u001b[39m\u001b[38;5;124m\"\u001b[39m\u001b[38;5;124mNone of [\u001b[39m\u001b[38;5;132;01m{\u001b[39;00mkey\u001b[38;5;132;01m}\u001b[39;00m\u001b[38;5;124m] are in the [\u001b[39m\u001b[38;5;132;01m{\u001b[39;00maxis_name\u001b[38;5;132;01m}\u001b[39;00m\u001b[38;5;124m]\u001b[39m\u001b[38;5;124m\"\u001b[39m)\n\u001b[0;32m   6175\u001b[0m not_found \u001b[38;5;241m=\u001b[39m \u001b[38;5;28mlist\u001b[39m(ensure_index(key)[missing_mask\u001b[38;5;241m.\u001b[39mnonzero()[\u001b[38;5;241m0\u001b[39m]]\u001b[38;5;241m.\u001b[39munique())\n\u001b[1;32m-> 6176\u001b[0m \u001b[38;5;28;01mraise\u001b[39;00m \u001b[38;5;167;01mKeyError\u001b[39;00m(\u001b[38;5;124mf\u001b[39m\u001b[38;5;124m\"\u001b[39m\u001b[38;5;132;01m{\u001b[39;00mnot_found\u001b[38;5;132;01m}\u001b[39;00m\u001b[38;5;124m not in index\u001b[39m\u001b[38;5;124m\"\u001b[39m)\n",
      "\u001b[1;31mKeyError\u001b[0m: \"['Income'] not in index\""
     ]
    },
    {
     "data": {
      "image/png": "[encoded data removed]",
      "text/plain": [
       "<Figure size 640x480 with 1 Axes>"
      ]
     },
     "metadata": {},
     "output_type": "display_data"
    }
   ],
   "source": [
    "df.hist(bins=50, ax=plt.grid(), layout=(5,5), column=(numeric), figsize=(15,10))\n",
    "plt.tight_layout()\n",
    "plt.show()"
   ]
  },
  {
   "cell_type": "code",
   "execution_count": null,
   "id": "8014bc87",
   "metadata": {},
   "outputs": [],
   "source": []
  }
 ],
 "metadata": {
  "kernelspec": {
   "display_name": "Python 3 (ipykernel)",
   "language": "python",
   "name": "python3"
  },
  "language_info": {
   "codemirror_mode": {
    "name": "ipython",
    "version": 3
   },
   "file_extension": ".py",
   "mimetype": "text/x-python",
   "name": "python",
   "nbconvert_exporter": "python",
   "pygments_lexer": "ipython3",
   "version": "3.10.6"
  }
 },
 "nbformat": 4,
 "nbformat_minor": 5
}
